{
  "nbformat": 4,
  "nbformat_minor": 0,
  "metadata": {
    "colab": {
      "provenance": [],
      "authorship_tag": "ABX9TyOJBK+413vILDZO2LZbO+K7",
      "include_colab_link": true
    },
    "kernelspec": {
      "name": "python3",
      "display_name": "Python 3"
    },
    "language_info": {
      "name": "python"
    }
  },
  "cells": [
    {
      "cell_type": "markdown",
      "metadata": {
        "id": "view-in-github",
        "colab_type": "text"
      },
      "source": [
        "<a href=\"https://colab.research.google.com/github/Angel353/Concentracion_CADII/blob/main/ValoresNulos/Tareas/Act_3_2_Valores_Nulos.ipynb\" target=\"_parent\"><img src=\"https://colab.research.google.com/assets/colab-badge.svg\" alt=\"Open In Colab\"/></a>"
      ]
    },
    {
      "cell_type": "code",
      "execution_count": 1,
      "metadata": {
        "id": "dtLNEbRq77v6"
      },
      "outputs": [],
      "source": [
        "# Importar las librerías\n",
        "import pandas as pd\n",
        "import numpy as np\n",
        "import matplotlib.pyplot as plt"
      ]
    },
    {
      "cell_type": "markdown",
      "source": [
        "# **Actividad Valores Nulos**"
      ],
      "metadata": {
        "id": "mgH8wnLT8yZR"
      }
    },
    {
      "cell_type": "code",
      "source": [
        "from google.colab import files\n",
        "files.upload()"
      ],
      "metadata": {
        "id": "IJsemkeZ85JA"
      },
      "execution_count": null,
      "outputs": []
    },
    {
      "cell_type": "code",
      "source": [
        "df = pd.read_csv(\"Ventas_totales.csv\")\n",
        "df"
      ],
      "metadata": {
        "colab": {
          "base_uri": "https://localhost:8080/",
          "height": 443
        },
        "id": "DH6Tvw7P8-9g",
        "outputId": "f8b002c4-2b53-42a1-ac08-c6c61b22a042"
      },
      "execution_count": 25,
      "outputs": [
        {
          "output_type": "execute_result",
          "data": {
            "text/plain": [
              "   indice_tiempo  ventas_precios_corrientes  ventas_precios_constantes  \\\n",
              "0     01/01/2017                    27858.9                    27477.3   \n",
              "1     01/02/2017                    25994.2                    25223.4   \n",
              "2     01/03/2017                    27780.0                    26334.3   \n",
              "3     01/04/2017                    29134.3                    27045.9   \n",
              "4     01/05/2017                    27969.0                    25631.9   \n",
              "..           ...                        ...                        ...   \n",
              "60    01/01/2022                   154517.1                    45463.4   \n",
              "61    01/02/2022                   152202.6                    23802.1   \n",
              "62    01/03/2022                       16.5                    24612.4   \n",
              "63    01/04/2022                   177148.1                    24140.5   \n",
              "64    01/05/2022                   179639.2                    23234.2   \n",
              "\n",
              "    ventas_totales_canal_venta  salon_ventas  canales_on_line  \\\n",
              "0                 2.785887e+07  2.759173e+07     2.671420e+05   \n",
              "1                 2.599420e+07  2.574918e+07     2.450208e+05   \n",
              "2                 2.778001e+07  2.747223e+07     3.077778e+05   \n",
              "3                 2.913427e+07  2.882748e+07     3.067927e+05   \n",
              "4                 2.796900e+07  2.756931e+07     3.996933e+05   \n",
              "..                         ...           ...              ...   \n",
              "60                1.545171e+08  1.496976e+08     4.819480e+06   \n",
              "61                1.522026e+08  1.484065e+08     3.796044e+06   \n",
              "62                1.689825e+08  1.643211e+08     4.661350e+05   \n",
              "63                1.771481e+08  1.730038e+08     4.144284e+06   \n",
              "64                1.796392e+08  1.753585e+08     4.280751e+06   \n",
              "\n",
              "    ventas_totales_medio_pago      efectivo  tarjetas_debito  \\\n",
              "0                2.785887e+07  1.023010e+07     6.864575e+06   \n",
              "1                2.599420e+07  9.719067e+06     6.438494e+06   \n",
              "2                2.778001e+07  1.024444e+07     6.908523e+06   \n",
              "3                2.913427e+07  1.031263e+07     7.454252e+06   \n",
              "4                2.796900e+07  1.014761e+07     6.735747e+06   \n",
              "..                        ...           ...              ...   \n",
              "60               1.545171e+08  4.696260e+07     4.605365e+07   \n",
              "61               1.522026e+08  4.629096e+07     4.528358e+07   \n",
              "62               1.689825e+08  5.126208e+07     4.736436e+07   \n",
              "63               1.771481e+08  5.319000e+07     5.006397e+07   \n",
              "64               1.796392e+08  5.273811e+07     4.988679e+07   \n",
              "\n",
              "    tarjetas_credito  ...       almacen     panaderia       lacteos  \\\n",
              "0       9.047205e+06  ...  6.705475e+06  9.459063e+05  2.880656e+06   \n",
              "1       8.309150e+06  ...  6.576625e+06  9.256186e+05  2.855640e+06   \n",
              "2       8.845010e+06  ...  7.437264e+06  1.016148e+06  3.188259e+06   \n",
              "3       9.458167e+06  ...  8.211244e+06  1.132396e+06  3.257140e+06   \n",
              "4       9.220930e+06  ...  7.651058e+06  1.033082e+06  3.232636e+06   \n",
              "..               ...  ...           ...           ...           ...   \n",
              "60      5.404833e+07  ...  3.750517e+07  4.860318e+06  1.610477e+07   \n",
              "61      5.370589e+07  ...  3.820979e+07  5.045920e+06  1.613982e+07   \n",
              "62               NaN  ...  4.541886e+07  5.922820e+06  1.841916e+07   \n",
              "63      6.535759e+07  ...  4.999168e+07  6.746167e+06  1.930946e+07   \n",
              "64      6.807009e+07  ...  5.015035e+07  6.667330e+06  2.012112e+07   \n",
              "\n",
              "          carnes  verduleria_fruteria  alimentos_preparados_rotiseria  \\\n",
              "0   2.606193e+06         1.050314e+06                    3.407774e+05   \n",
              "1   2.600084e+06         1.026167e+06                    3.282887e+05   \n",
              "2   2.824977e+06         1.075526e+06                    3.533352e+05   \n",
              "3   3.006159e+06         1.037213e+06                    3.596945e+05   \n",
              "4   2.799142e+06         9.826512e+05                    3.365680e+05   \n",
              "..           ...                  ...                             ...   \n",
              "60  1.740849e+07         6.138441e+06                    1.401929e+06   \n",
              "61  1.826074e+07         6.436028e+06                    1.370640e+06   \n",
              "62  2.082760e+07         6.886240e+06                    1.589119e+06   \n",
              "63  2.287784e+07         6.510666e+06                    1.719459e+06   \n",
              "64  2.284153e+07         6.314109e+06                    1.779483e+06   \n",
              "\n",
              "    articulos_limpieza_perfumeria  indumentaria_calzado_textiles_hogar  \\\n",
              "0                    4.397544e+06                         7.723718e+05   \n",
              "1                    4.053284e+06                         6.722905e+05   \n",
              "2                    4.354198e+06                         6.676967e+05   \n",
              "3                    4.355707e+06                         8.389482e+05   \n",
              "4                    4.206102e+06                         9.158951e+05   \n",
              "..                            ...                                  ...   \n",
              "60                   2.133021e+07                         3.782646e+06   \n",
              "61                   2.030545e+07                                  NaN   \n",
              "62                   2.294201e+07                         3.912852e+06   \n",
              "63                   2.313127e+07                         4.228054e+06   \n",
              "64                   2.357864e+07                         5.213153e+06   \n",
              "\n",
              "    electronicos_articulos_hogar         otros  \n",
              "0                   1.838507e+06  2.806660e+06  \n",
              "1                   1.257662e+06  2.354085e+06  \n",
              "2                   1.305675e+06  2.266189e+06  \n",
              "3                   1.535726e+06  2.146756e+06  \n",
              "4                   1.824462e+06  2.117971e+06  \n",
              "..                           ...           ...  \n",
              "60                  1.218755e+07  1.343307e+07  \n",
              "61                  9.189746e+06  1.330139e+07  \n",
              "62                  1.089879e+07           NaN  \n",
              "63                           NaN  1.191048e+07  \n",
              "64                  1.203960e+07  1.234998e+07  \n",
              "\n",
              "[65 rows x 24 columns]"
            ],
            "text/html": [
              "\n",
              "  <div id=\"df-702c46b3-7363-45a5-b88b-dc63e52caced\" class=\"colab-df-container\">\n",
              "    <div>\n",
              "<style scoped>\n",
              "    .dataframe tbody tr th:only-of-type {\n",
              "        vertical-align: middle;\n",
              "    }\n",
              "\n",
              "    .dataframe tbody tr th {\n",
              "        vertical-align: top;\n",
              "    }\n",
              "\n",
              "    .dataframe thead th {\n",
              "        text-align: right;\n",
              "    }\n",
              "</style>\n",
              "<table border=\"1\" class=\"dataframe\">\n",
              "  <thead>\n",
              "    <tr style=\"text-align: right;\">\n",
              "      <th></th>\n",
              "      <th>indice_tiempo</th>\n",
              "      <th>ventas_precios_corrientes</th>\n",
              "      <th>ventas_precios_constantes</th>\n",
              "      <th>ventas_totales_canal_venta</th>\n",
              "      <th>salon_ventas</th>\n",
              "      <th>canales_on_line</th>\n",
              "      <th>ventas_totales_medio_pago</th>\n",
              "      <th>efectivo</th>\n",
              "      <th>tarjetas_debito</th>\n",
              "      <th>tarjetas_credito</th>\n",
              "      <th>...</th>\n",
              "      <th>almacen</th>\n",
              "      <th>panaderia</th>\n",
              "      <th>lacteos</th>\n",
              "      <th>carnes</th>\n",
              "      <th>verduleria_fruteria</th>\n",
              "      <th>alimentos_preparados_rotiseria</th>\n",
              "      <th>articulos_limpieza_perfumeria</th>\n",
              "      <th>indumentaria_calzado_textiles_hogar</th>\n",
              "      <th>electronicos_articulos_hogar</th>\n",
              "      <th>otros</th>\n",
              "    </tr>\n",
              "  </thead>\n",
              "  <tbody>\n",
              "    <tr>\n",
              "      <th>0</th>\n",
              "      <td>01/01/2017</td>\n",
              "      <td>27858.9</td>\n",
              "      <td>27477.3</td>\n",
              "      <td>2.785887e+07</td>\n",
              "      <td>2.759173e+07</td>\n",
              "      <td>2.671420e+05</td>\n",
              "      <td>2.785887e+07</td>\n",
              "      <td>1.023010e+07</td>\n",
              "      <td>6.864575e+06</td>\n",
              "      <td>9.047205e+06</td>\n",
              "      <td>...</td>\n",
              "      <td>6.705475e+06</td>\n",
              "      <td>9.459063e+05</td>\n",
              "      <td>2.880656e+06</td>\n",
              "      <td>2.606193e+06</td>\n",
              "      <td>1.050314e+06</td>\n",
              "      <td>3.407774e+05</td>\n",
              "      <td>4.397544e+06</td>\n",
              "      <td>7.723718e+05</td>\n",
              "      <td>1.838507e+06</td>\n",
              "      <td>2.806660e+06</td>\n",
              "    </tr>\n",
              "    <tr>\n",
              "      <th>1</th>\n",
              "      <td>01/02/2017</td>\n",
              "      <td>25994.2</td>\n",
              "      <td>25223.4</td>\n",
              "      <td>2.599420e+07</td>\n",
              "      <td>2.574918e+07</td>\n",
              "      <td>2.450208e+05</td>\n",
              "      <td>2.599420e+07</td>\n",
              "      <td>9.719067e+06</td>\n",
              "      <td>6.438494e+06</td>\n",
              "      <td>8.309150e+06</td>\n",
              "      <td>...</td>\n",
              "      <td>6.576625e+06</td>\n",
              "      <td>9.256186e+05</td>\n",
              "      <td>2.855640e+06</td>\n",
              "      <td>2.600084e+06</td>\n",
              "      <td>1.026167e+06</td>\n",
              "      <td>3.282887e+05</td>\n",
              "      <td>4.053284e+06</td>\n",
              "      <td>6.722905e+05</td>\n",
              "      <td>1.257662e+06</td>\n",
              "      <td>2.354085e+06</td>\n",
              "    </tr>\n",
              "    <tr>\n",
              "      <th>2</th>\n",
              "      <td>01/03/2017</td>\n",
              "      <td>27780.0</td>\n",
              "      <td>26334.3</td>\n",
              "      <td>2.778001e+07</td>\n",
              "      <td>2.747223e+07</td>\n",
              "      <td>3.077778e+05</td>\n",
              "      <td>2.778001e+07</td>\n",
              "      <td>1.024444e+07</td>\n",
              "      <td>6.908523e+06</td>\n",
              "      <td>8.845010e+06</td>\n",
              "      <td>...</td>\n",
              "      <td>7.437264e+06</td>\n",
              "      <td>1.016148e+06</td>\n",
              "      <td>3.188259e+06</td>\n",
              "      <td>2.824977e+06</td>\n",
              "      <td>1.075526e+06</td>\n",
              "      <td>3.533352e+05</td>\n",
              "      <td>4.354198e+06</td>\n",
              "      <td>6.676967e+05</td>\n",
              "      <td>1.305675e+06</td>\n",
              "      <td>2.266189e+06</td>\n",
              "    </tr>\n",
              "    <tr>\n",
              "      <th>3</th>\n",
              "      <td>01/04/2017</td>\n",
              "      <td>29134.3</td>\n",
              "      <td>27045.9</td>\n",
              "      <td>2.913427e+07</td>\n",
              "      <td>2.882748e+07</td>\n",
              "      <td>3.067927e+05</td>\n",
              "      <td>2.913427e+07</td>\n",
              "      <td>1.031263e+07</td>\n",
              "      <td>7.454252e+06</td>\n",
              "      <td>9.458167e+06</td>\n",
              "      <td>...</td>\n",
              "      <td>8.211244e+06</td>\n",
              "      <td>1.132396e+06</td>\n",
              "      <td>3.257140e+06</td>\n",
              "      <td>3.006159e+06</td>\n",
              "      <td>1.037213e+06</td>\n",
              "      <td>3.596945e+05</td>\n",
              "      <td>4.355707e+06</td>\n",
              "      <td>8.389482e+05</td>\n",
              "      <td>1.535726e+06</td>\n",
              "      <td>2.146756e+06</td>\n",
              "    </tr>\n",
              "    <tr>\n",
              "      <th>4</th>\n",
              "      <td>01/05/2017</td>\n",
              "      <td>27969.0</td>\n",
              "      <td>25631.9</td>\n",
              "      <td>2.796900e+07</td>\n",
              "      <td>2.756931e+07</td>\n",
              "      <td>3.996933e+05</td>\n",
              "      <td>2.796900e+07</td>\n",
              "      <td>1.014761e+07</td>\n",
              "      <td>6.735747e+06</td>\n",
              "      <td>9.220930e+06</td>\n",
              "      <td>...</td>\n",
              "      <td>7.651058e+06</td>\n",
              "      <td>1.033082e+06</td>\n",
              "      <td>3.232636e+06</td>\n",
              "      <td>2.799142e+06</td>\n",
              "      <td>9.826512e+05</td>\n",
              "      <td>3.365680e+05</td>\n",
              "      <td>4.206102e+06</td>\n",
              "      <td>9.158951e+05</td>\n",
              "      <td>1.824462e+06</td>\n",
              "      <td>2.117971e+06</td>\n",
              "    </tr>\n",
              "    <tr>\n",
              "      <th>...</th>\n",
              "      <td>...</td>\n",
              "      <td>...</td>\n",
              "      <td>...</td>\n",
              "      <td>...</td>\n",
              "      <td>...</td>\n",
              "      <td>...</td>\n",
              "      <td>...</td>\n",
              "      <td>...</td>\n",
              "      <td>...</td>\n",
              "      <td>...</td>\n",
              "      <td>...</td>\n",
              "      <td>...</td>\n",
              "      <td>...</td>\n",
              "      <td>...</td>\n",
              "      <td>...</td>\n",
              "      <td>...</td>\n",
              "      <td>...</td>\n",
              "      <td>...</td>\n",
              "      <td>...</td>\n",
              "      <td>...</td>\n",
              "      <td>...</td>\n",
              "    </tr>\n",
              "    <tr>\n",
              "      <th>60</th>\n",
              "      <td>01/01/2022</td>\n",
              "      <td>154517.1</td>\n",
              "      <td>45463.4</td>\n",
              "      <td>1.545171e+08</td>\n",
              "      <td>1.496976e+08</td>\n",
              "      <td>4.819480e+06</td>\n",
              "      <td>1.545171e+08</td>\n",
              "      <td>4.696260e+07</td>\n",
              "      <td>4.605365e+07</td>\n",
              "      <td>5.404833e+07</td>\n",
              "      <td>...</td>\n",
              "      <td>3.750517e+07</td>\n",
              "      <td>4.860318e+06</td>\n",
              "      <td>1.610477e+07</td>\n",
              "      <td>1.740849e+07</td>\n",
              "      <td>6.138441e+06</td>\n",
              "      <td>1.401929e+06</td>\n",
              "      <td>2.133021e+07</td>\n",
              "      <td>3.782646e+06</td>\n",
              "      <td>1.218755e+07</td>\n",
              "      <td>1.343307e+07</td>\n",
              "    </tr>\n",
              "    <tr>\n",
              "      <th>61</th>\n",
              "      <td>01/02/2022</td>\n",
              "      <td>152202.6</td>\n",
              "      <td>23802.1</td>\n",
              "      <td>1.522026e+08</td>\n",
              "      <td>1.484065e+08</td>\n",
              "      <td>3.796044e+06</td>\n",
              "      <td>1.522026e+08</td>\n",
              "      <td>4.629096e+07</td>\n",
              "      <td>4.528358e+07</td>\n",
              "      <td>5.370589e+07</td>\n",
              "      <td>...</td>\n",
              "      <td>3.820979e+07</td>\n",
              "      <td>5.045920e+06</td>\n",
              "      <td>1.613982e+07</td>\n",
              "      <td>1.826074e+07</td>\n",
              "      <td>6.436028e+06</td>\n",
              "      <td>1.370640e+06</td>\n",
              "      <td>2.030545e+07</td>\n",
              "      <td>NaN</td>\n",
              "      <td>9.189746e+06</td>\n",
              "      <td>1.330139e+07</td>\n",
              "    </tr>\n",
              "    <tr>\n",
              "      <th>62</th>\n",
              "      <td>01/03/2022</td>\n",
              "      <td>16.5</td>\n",
              "      <td>24612.4</td>\n",
              "      <td>1.689825e+08</td>\n",
              "      <td>1.643211e+08</td>\n",
              "      <td>4.661350e+05</td>\n",
              "      <td>1.689825e+08</td>\n",
              "      <td>5.126208e+07</td>\n",
              "      <td>4.736436e+07</td>\n",
              "      <td>NaN</td>\n",
              "      <td>...</td>\n",
              "      <td>4.541886e+07</td>\n",
              "      <td>5.922820e+06</td>\n",
              "      <td>1.841916e+07</td>\n",
              "      <td>2.082760e+07</td>\n",
              "      <td>6.886240e+06</td>\n",
              "      <td>1.589119e+06</td>\n",
              "      <td>2.294201e+07</td>\n",
              "      <td>3.912852e+06</td>\n",
              "      <td>1.089879e+07</td>\n",
              "      <td>NaN</td>\n",
              "    </tr>\n",
              "    <tr>\n",
              "      <th>63</th>\n",
              "      <td>01/04/2022</td>\n",
              "      <td>177148.1</td>\n",
              "      <td>24140.5</td>\n",
              "      <td>1.771481e+08</td>\n",
              "      <td>1.730038e+08</td>\n",
              "      <td>4.144284e+06</td>\n",
              "      <td>1.771481e+08</td>\n",
              "      <td>5.319000e+07</td>\n",
              "      <td>5.006397e+07</td>\n",
              "      <td>6.535759e+07</td>\n",
              "      <td>...</td>\n",
              "      <td>4.999168e+07</td>\n",
              "      <td>6.746167e+06</td>\n",
              "      <td>1.930946e+07</td>\n",
              "      <td>2.287784e+07</td>\n",
              "      <td>6.510666e+06</td>\n",
              "      <td>1.719459e+06</td>\n",
              "      <td>2.313127e+07</td>\n",
              "      <td>4.228054e+06</td>\n",
              "      <td>NaN</td>\n",
              "      <td>1.191048e+07</td>\n",
              "    </tr>\n",
              "    <tr>\n",
              "      <th>64</th>\n",
              "      <td>01/05/2022</td>\n",
              "      <td>179639.2</td>\n",
              "      <td>23234.2</td>\n",
              "      <td>1.796392e+08</td>\n",
              "      <td>1.753585e+08</td>\n",
              "      <td>4.280751e+06</td>\n",
              "      <td>1.796392e+08</td>\n",
              "      <td>5.273811e+07</td>\n",
              "      <td>4.988679e+07</td>\n",
              "      <td>6.807009e+07</td>\n",
              "      <td>...</td>\n",
              "      <td>5.015035e+07</td>\n",
              "      <td>6.667330e+06</td>\n",
              "      <td>2.012112e+07</td>\n",
              "      <td>2.284153e+07</td>\n",
              "      <td>6.314109e+06</td>\n",
              "      <td>1.779483e+06</td>\n",
              "      <td>2.357864e+07</td>\n",
              "      <td>5.213153e+06</td>\n",
              "      <td>1.203960e+07</td>\n",
              "      <td>1.234998e+07</td>\n",
              "    </tr>\n",
              "  </tbody>\n",
              "</table>\n",
              "<p>65 rows × 24 columns</p>\n",
              "</div>\n",
              "    <div class=\"colab-df-buttons\">\n",
              "\n",
              "  <div class=\"colab-df-container\">\n",
              "    <button class=\"colab-df-convert\" onclick=\"convertToInteractive('df-702c46b3-7363-45a5-b88b-dc63e52caced')\"\n",
              "            title=\"Convert this dataframe to an interactive table.\"\n",
              "            style=\"display:none;\">\n",
              "\n",
              "  <svg xmlns=\"http://www.w3.org/2000/svg\" height=\"24px\" viewBox=\"0 -960 960 960\">\n",
              "    <path d=\"M120-120v-720h720v720H120Zm60-500h600v-160H180v160Zm220 220h160v-160H400v160Zm0 220h160v-160H400v160ZM180-400h160v-160H180v160Zm440 0h160v-160H620v160ZM180-180h160v-160H180v160Zm440 0h160v-160H620v160Z\"/>\n",
              "  </svg>\n",
              "    </button>\n",
              "\n",
              "  <style>\n",
              "    .colab-df-container {\n",
              "      display:flex;\n",
              "      gap: 12px;\n",
              "    }\n",
              "\n",
              "    .colab-df-convert {\n",
              "      background-color: #E8F0FE;\n",
              "      border: none;\n",
              "      border-radius: 50%;\n",
              "      cursor: pointer;\n",
              "      display: none;\n",
              "      fill: #1967D2;\n",
              "      height: 32px;\n",
              "      padding: 0 0 0 0;\n",
              "      width: 32px;\n",
              "    }\n",
              "\n",
              "    .colab-df-convert:hover {\n",
              "      background-color: #E2EBFA;\n",
              "      box-shadow: 0px 1px 2px rgba(60, 64, 67, 0.3), 0px 1px 3px 1px rgba(60, 64, 67, 0.15);\n",
              "      fill: #174EA6;\n",
              "    }\n",
              "\n",
              "    .colab-df-buttons div {\n",
              "      margin-bottom: 4px;\n",
              "    }\n",
              "\n",
              "    [theme=dark] .colab-df-convert {\n",
              "      background-color: #3B4455;\n",
              "      fill: #D2E3FC;\n",
              "    }\n",
              "\n",
              "    [theme=dark] .colab-df-convert:hover {\n",
              "      background-color: #434B5C;\n",
              "      box-shadow: 0px 1px 3px 1px rgba(0, 0, 0, 0.15);\n",
              "      filter: drop-shadow(0px 1px 2px rgba(0, 0, 0, 0.3));\n",
              "      fill: #FFFFFF;\n",
              "    }\n",
              "  </style>\n",
              "\n",
              "    <script>\n",
              "      const buttonEl =\n",
              "        document.querySelector('#df-702c46b3-7363-45a5-b88b-dc63e52caced button.colab-df-convert');\n",
              "      buttonEl.style.display =\n",
              "        google.colab.kernel.accessAllowed ? 'block' : 'none';\n",
              "\n",
              "      async function convertToInteractive(key) {\n",
              "        const element = document.querySelector('#df-702c46b3-7363-45a5-b88b-dc63e52caced');\n",
              "        const dataTable =\n",
              "          await google.colab.kernel.invokeFunction('convertToInteractive',\n",
              "                                                    [key], {});\n",
              "        if (!dataTable) return;\n",
              "\n",
              "        const docLinkHtml = 'Like what you see? Visit the ' +\n",
              "          '<a target=\"_blank\" href=https://colab.research.google.com/notebooks/data_table.ipynb>data table notebook</a>'\n",
              "          + ' to learn more about interactive tables.';\n",
              "        element.innerHTML = '';\n",
              "        dataTable['output_type'] = 'display_data';\n",
              "        await google.colab.output.renderOutput(dataTable, element);\n",
              "        const docLink = document.createElement('div');\n",
              "        docLink.innerHTML = docLinkHtml;\n",
              "        element.appendChild(docLink);\n",
              "      }\n",
              "    </script>\n",
              "  </div>\n",
              "\n",
              "\n",
              "<div id=\"df-25245df3-0f62-49de-af4f-b5ad6f90e5ca\">\n",
              "  <button class=\"colab-df-quickchart\" onclick=\"quickchart('df-25245df3-0f62-49de-af4f-b5ad6f90e5ca')\"\n",
              "            title=\"Suggest charts\"\n",
              "            style=\"display:none;\">\n",
              "\n",
              "<svg xmlns=\"http://www.w3.org/2000/svg\" height=\"24px\"viewBox=\"0 0 24 24\"\n",
              "     width=\"24px\">\n",
              "    <g>\n",
              "        <path d=\"M19 3H5c-1.1 0-2 .9-2 2v14c0 1.1.9 2 2 2h14c1.1 0 2-.9 2-2V5c0-1.1-.9-2-2-2zM9 17H7v-7h2v7zm4 0h-2V7h2v10zm4 0h-2v-4h2v4z\"/>\n",
              "    </g>\n",
              "</svg>\n",
              "  </button>\n",
              "\n",
              "<style>\n",
              "  .colab-df-quickchart {\n",
              "      --bg-color: #E8F0FE;\n",
              "      --fill-color: #1967D2;\n",
              "      --hover-bg-color: #E2EBFA;\n",
              "      --hover-fill-color: #174EA6;\n",
              "      --disabled-fill-color: #AAA;\n",
              "      --disabled-bg-color: #DDD;\n",
              "  }\n",
              "\n",
              "  [theme=dark] .colab-df-quickchart {\n",
              "      --bg-color: #3B4455;\n",
              "      --fill-color: #D2E3FC;\n",
              "      --hover-bg-color: #434B5C;\n",
              "      --hover-fill-color: #FFFFFF;\n",
              "      --disabled-bg-color: #3B4455;\n",
              "      --disabled-fill-color: #666;\n",
              "  }\n",
              "\n",
              "  .colab-df-quickchart {\n",
              "    background-color: var(--bg-color);\n",
              "    border: none;\n",
              "    border-radius: 50%;\n",
              "    cursor: pointer;\n",
              "    display: none;\n",
              "    fill: var(--fill-color);\n",
              "    height: 32px;\n",
              "    padding: 0;\n",
              "    width: 32px;\n",
              "  }\n",
              "\n",
              "  .colab-df-quickchart:hover {\n",
              "    background-color: var(--hover-bg-color);\n",
              "    box-shadow: 0 1px 2px rgba(60, 64, 67, 0.3), 0 1px 3px 1px rgba(60, 64, 67, 0.15);\n",
              "    fill: var(--button-hover-fill-color);\n",
              "  }\n",
              "\n",
              "  .colab-df-quickchart-complete:disabled,\n",
              "  .colab-df-quickchart-complete:disabled:hover {\n",
              "    background-color: var(--disabled-bg-color);\n",
              "    fill: var(--disabled-fill-color);\n",
              "    box-shadow: none;\n",
              "  }\n",
              "\n",
              "  .colab-df-spinner {\n",
              "    border: 2px solid var(--fill-color);\n",
              "    border-color: transparent;\n",
              "    border-bottom-color: var(--fill-color);\n",
              "    animation:\n",
              "      spin 1s steps(1) infinite;\n",
              "  }\n",
              "\n",
              "  @keyframes spin {\n",
              "    0% {\n",
              "      border-color: transparent;\n",
              "      border-bottom-color: var(--fill-color);\n",
              "      border-left-color: var(--fill-color);\n",
              "    }\n",
              "    20% {\n",
              "      border-color: transparent;\n",
              "      border-left-color: var(--fill-color);\n",
              "      border-top-color: var(--fill-color);\n",
              "    }\n",
              "    30% {\n",
              "      border-color: transparent;\n",
              "      border-left-color: var(--fill-color);\n",
              "      border-top-color: var(--fill-color);\n",
              "      border-right-color: var(--fill-color);\n",
              "    }\n",
              "    40% {\n",
              "      border-color: transparent;\n",
              "      border-right-color: var(--fill-color);\n",
              "      border-top-color: var(--fill-color);\n",
              "    }\n",
              "    60% {\n",
              "      border-color: transparent;\n",
              "      border-right-color: var(--fill-color);\n",
              "    }\n",
              "    80% {\n",
              "      border-color: transparent;\n",
              "      border-right-color: var(--fill-color);\n",
              "      border-bottom-color: var(--fill-color);\n",
              "    }\n",
              "    90% {\n",
              "      border-color: transparent;\n",
              "      border-bottom-color: var(--fill-color);\n",
              "    }\n",
              "  }\n",
              "</style>\n",
              "\n",
              "  <script>\n",
              "    async function quickchart(key) {\n",
              "      const quickchartButtonEl =\n",
              "        document.querySelector('#' + key + ' button');\n",
              "      quickchartButtonEl.disabled = true;  // To prevent multiple clicks.\n",
              "      quickchartButtonEl.classList.add('colab-df-spinner');\n",
              "      try {\n",
              "        const charts = await google.colab.kernel.invokeFunction(\n",
              "            'suggestCharts', [key], {});\n",
              "      } catch (error) {\n",
              "        console.error('Error during call to suggestCharts:', error);\n",
              "      }\n",
              "      quickchartButtonEl.classList.remove('colab-df-spinner');\n",
              "      quickchartButtonEl.classList.add('colab-df-quickchart-complete');\n",
              "    }\n",
              "    (() => {\n",
              "      let quickchartButtonEl =\n",
              "        document.querySelector('#df-25245df3-0f62-49de-af4f-b5ad6f90e5ca button');\n",
              "      quickchartButtonEl.style.display =\n",
              "        google.colab.kernel.accessAllowed ? 'block' : 'none';\n",
              "    })();\n",
              "  </script>\n",
              "</div>\n",
              "\n",
              "  <div id=\"id_c242ebb7-e77e-4f0a-82b7-f8fe5a191752\">\n",
              "    <style>\n",
              "      .colab-df-generate {\n",
              "        background-color: #E8F0FE;\n",
              "        border: none;\n",
              "        border-radius: 50%;\n",
              "        cursor: pointer;\n",
              "        display: none;\n",
              "        fill: #1967D2;\n",
              "        height: 32px;\n",
              "        padding: 0 0 0 0;\n",
              "        width: 32px;\n",
              "      }\n",
              "\n",
              "      .colab-df-generate:hover {\n",
              "        background-color: #E2EBFA;\n",
              "        box-shadow: 0px 1px 2px rgba(60, 64, 67, 0.3), 0px 1px 3px 1px rgba(60, 64, 67, 0.15);\n",
              "        fill: #174EA6;\n",
              "      }\n",
              "\n",
              "      [theme=dark] .colab-df-generate {\n",
              "        background-color: #3B4455;\n",
              "        fill: #D2E3FC;\n",
              "      }\n",
              "\n",
              "      [theme=dark] .colab-df-generate:hover {\n",
              "        background-color: #434B5C;\n",
              "        box-shadow: 0px 1px 3px 1px rgba(0, 0, 0, 0.15);\n",
              "        filter: drop-shadow(0px 1px 2px rgba(0, 0, 0, 0.3));\n",
              "        fill: #FFFFFF;\n",
              "      }\n",
              "    </style>\n",
              "    <button class=\"colab-df-generate\" onclick=\"generateWithVariable('df')\"\n",
              "            title=\"Generate code using this dataframe.\"\n",
              "            style=\"display:none;\">\n",
              "\n",
              "  <svg xmlns=\"http://www.w3.org/2000/svg\" height=\"24px\"viewBox=\"0 0 24 24\"\n",
              "       width=\"24px\">\n",
              "    <path d=\"M7,19H8.4L18.45,9,17,7.55,7,17.6ZM5,21V16.75L18.45,3.32a2,2,0,0,1,2.83,0l1.4,1.43a1.91,1.91,0,0,1,.58,1.4,1.91,1.91,0,0,1-.58,1.4L9.25,21ZM18.45,9,17,7.55Zm-12,3A5.31,5.31,0,0,0,4.9,8.1,5.31,5.31,0,0,0,1,6.5,5.31,5.31,0,0,0,4.9,4.9,5.31,5.31,0,0,0,6.5,1,5.31,5.31,0,0,0,8.1,4.9,5.31,5.31,0,0,0,12,6.5,5.46,5.46,0,0,0,6.5,12Z\"/>\n",
              "  </svg>\n",
              "    </button>\n",
              "    <script>\n",
              "      (() => {\n",
              "      const buttonEl =\n",
              "        document.querySelector('#id_c242ebb7-e77e-4f0a-82b7-f8fe5a191752 button.colab-df-generate');\n",
              "      buttonEl.style.display =\n",
              "        google.colab.kernel.accessAllowed ? 'block' : 'none';\n",
              "\n",
              "      buttonEl.onclick = () => {\n",
              "        google.colab.notebook.generateWithVariable('df');\n",
              "      }\n",
              "      })();\n",
              "    </script>\n",
              "  </div>\n",
              "\n",
              "    </div>\n",
              "  </div>\n"
            ],
            "application/vnd.google.colaboratory.intrinsic+json": {
              "type": "dataframe",
              "variable_name": "df"
            }
          },
          "metadata": {},
          "execution_count": 25
        }
      ]
    },
    {
      "cell_type": "code",
      "source": [
        "df.info()"
      ],
      "metadata": {
        "colab": {
          "base_uri": "https://localhost:8080/"
        },
        "id": "9QiUlmKy99N1",
        "outputId": "eaa6eb66-063d-42c1-84f4-4280361066b9"
      },
      "execution_count": 26,
      "outputs": [
        {
          "output_type": "stream",
          "name": "stdout",
          "text": [
            "<class 'pandas.core.frame.DataFrame'>\n",
            "RangeIndex: 65 entries, 0 to 64\n",
            "Data columns (total 24 columns):\n",
            " #   Column                               Non-Null Count  Dtype  \n",
            "---  ------                               --------------  -----  \n",
            " 0   indice_tiempo                        65 non-null     object \n",
            " 1   ventas_precios_corrientes            65 non-null     float64\n",
            " 2   ventas_precios_constantes            65 non-null     float64\n",
            " 3   ventas_totales_canal_venta           65 non-null     float64\n",
            " 4   salon_ventas                         59 non-null     float64\n",
            " 5   canales_on_line                      65 non-null     float64\n",
            " 6   ventas_totales_medio_pago            65 non-null     float64\n",
            " 7   efectivo                             65 non-null     float64\n",
            " 8   tarjetas_debito                      64 non-null     float64\n",
            " 9   tarjetas_credito                     58 non-null     float64\n",
            " 10  otros_medios                         64 non-null     float64\n",
            " 11  ventas_totales_grupo_articulos       65 non-null     float64\n",
            " 12  subtotal_ventas_alimentos_bebidas    55 non-null     float64\n",
            " 13  bebidas                              64 non-null     float64\n",
            " 14  almacen                              63 non-null     float64\n",
            " 15  panaderia                            64 non-null     float64\n",
            " 16  lacteos                              64 non-null     float64\n",
            " 17  carnes                               64 non-null     float64\n",
            " 18  verduleria_fruteria                  64 non-null     float64\n",
            " 19  alimentos_preparados_rotiseria       64 non-null     float64\n",
            " 20  articulos_limpieza_perfumeria        65 non-null     float64\n",
            " 21  indumentaria_calzado_textiles_hogar  63 non-null     float64\n",
            " 22  electronicos_articulos_hogar         62 non-null     float64\n",
            " 23  otros                                61 non-null     float64\n",
            "dtypes: float64(23), object(1)\n",
            "memory usage: 12.3+ KB\n"
          ]
        }
      ]
    },
    {
      "cell_type": "code",
      "source": [
        "# Verificar solo los nulos de la columna\n",
        "dfTotal = df.isnull().sum()\n",
        "dfNulos = dfTotal[dfTotal > 0]\n",
        "dfNulos"
      ],
      "metadata": {
        "colab": {
          "base_uri": "https://localhost:8080/",
          "height": 554
        },
        "id": "TkwlRzpG9FYG",
        "outputId": "fa6267a8-b00c-4c98-c5eb-db9e5bea345b"
      },
      "execution_count": 27,
      "outputs": [
        {
          "output_type": "execute_result",
          "data": {
            "text/plain": [
              "salon_ventas                            6\n",
              "tarjetas_debito                         1\n",
              "tarjetas_credito                        7\n",
              "otros_medios                            1\n",
              "subtotal_ventas_alimentos_bebidas      10\n",
              "bebidas                                 1\n",
              "almacen                                 2\n",
              "panaderia                               1\n",
              "lacteos                                 1\n",
              "carnes                                  1\n",
              "verduleria_fruteria                     1\n",
              "alimentos_preparados_rotiseria          1\n",
              "indumentaria_calzado_textiles_hogar     2\n",
              "electronicos_articulos_hogar            3\n",
              "otros                                   4\n",
              "dtype: int64"
            ],
            "text/html": [
              "<div>\n",
              "<style scoped>\n",
              "    .dataframe tbody tr th:only-of-type {\n",
              "        vertical-align: middle;\n",
              "    }\n",
              "\n",
              "    .dataframe tbody tr th {\n",
              "        vertical-align: top;\n",
              "    }\n",
              "\n",
              "    .dataframe thead th {\n",
              "        text-align: right;\n",
              "    }\n",
              "</style>\n",
              "<table border=\"1\" class=\"dataframe\">\n",
              "  <thead>\n",
              "    <tr style=\"text-align: right;\">\n",
              "      <th></th>\n",
              "      <th>0</th>\n",
              "    </tr>\n",
              "  </thead>\n",
              "  <tbody>\n",
              "    <tr>\n",
              "      <th>salon_ventas</th>\n",
              "      <td>6</td>\n",
              "    </tr>\n",
              "    <tr>\n",
              "      <th>tarjetas_debito</th>\n",
              "      <td>1</td>\n",
              "    </tr>\n",
              "    <tr>\n",
              "      <th>tarjetas_credito</th>\n",
              "      <td>7</td>\n",
              "    </tr>\n",
              "    <tr>\n",
              "      <th>otros_medios</th>\n",
              "      <td>1</td>\n",
              "    </tr>\n",
              "    <tr>\n",
              "      <th>subtotal_ventas_alimentos_bebidas</th>\n",
              "      <td>10</td>\n",
              "    </tr>\n",
              "    <tr>\n",
              "      <th>bebidas</th>\n",
              "      <td>1</td>\n",
              "    </tr>\n",
              "    <tr>\n",
              "      <th>almacen</th>\n",
              "      <td>2</td>\n",
              "    </tr>\n",
              "    <tr>\n",
              "      <th>panaderia</th>\n",
              "      <td>1</td>\n",
              "    </tr>\n",
              "    <tr>\n",
              "      <th>lacteos</th>\n",
              "      <td>1</td>\n",
              "    </tr>\n",
              "    <tr>\n",
              "      <th>carnes</th>\n",
              "      <td>1</td>\n",
              "    </tr>\n",
              "    <tr>\n",
              "      <th>verduleria_fruteria</th>\n",
              "      <td>1</td>\n",
              "    </tr>\n",
              "    <tr>\n",
              "      <th>alimentos_preparados_rotiseria</th>\n",
              "      <td>1</td>\n",
              "    </tr>\n",
              "    <tr>\n",
              "      <th>indumentaria_calzado_textiles_hogar</th>\n",
              "      <td>2</td>\n",
              "    </tr>\n",
              "    <tr>\n",
              "      <th>electronicos_articulos_hogar</th>\n",
              "      <td>3</td>\n",
              "    </tr>\n",
              "    <tr>\n",
              "      <th>otros</th>\n",
              "      <td>4</td>\n",
              "    </tr>\n",
              "  </tbody>\n",
              "</table>\n",
              "</div><br><label><b>dtype:</b> int64</label>"
            ]
          },
          "metadata": {},
          "execution_count": 27
        }
      ]
    },
    {
      "cell_type": "code",
      "source": [
        "# Se hace una copia del dataframe para modificar los nulos\n",
        "dfLimpieza = df.copy()"
      ],
      "metadata": {
        "id": "2q3li6j5-6Wm"
      },
      "execution_count": 28,
      "outputs": []
    },
    {
      "cell_type": "markdown",
      "source": [
        "Los valores nulos de la columna \"salon_ventas\" serán reemplazados por la mediana dado que no tenemos un rango definido y que además no queremos sesgar las ventas que se tuvieron utilizando promedios en caso de tener outliers muy extremos."
      ],
      "metadata": {
        "id": "BLKF5sdS_4Wf"
      }
    },
    {
      "cell_type": "code",
      "source": [
        "# Columna \"salon_ventas\"\n",
        "dfLimpieza[\"salon_ventas\"] = dfLimpieza[\"salon_ventas\"].fillna(round(df[\"salon_ventas\"].median(),1))"
      ],
      "metadata": {
        "id": "1OhdduLc9yOB"
      },
      "execution_count": 29,
      "outputs": []
    },
    {
      "cell_type": "markdown",
      "source": [
        "Los valores nulos de la columna \"tarjetas_debito\" serán reemplazadas por el promedio dado que buscamos estabilizar la sumatoria de esta columna para no descuadrarla respecto a la llamada \"ventas_totales\""
      ],
      "metadata": {
        "id": "elW8wl9tAcpZ"
      }
    },
    {
      "cell_type": "code",
      "source": [
        "# Columna \"tarjetas_debito\"\n",
        "dfLimpieza[\"tarjetas_debito\"] = dfLimpieza[\"tarjetas_debito\"].fillna(round(df[\"tarjetas_debito\"].mean(),1))"
      ],
      "metadata": {
        "id": "Em7qqP5xAXkB"
      },
      "execution_count": 30,
      "outputs": []
    },
    {
      "cell_type": "markdown",
      "source": [
        "Similar a la columna pasada, en este caso, para los valores nulos de la columna \"tarjetas_credito\", estas serán reemplazadas por el promedio dado que buscamos estabilizar la sumatoria de esta columna para no descuadrarla respecto a la llamada \"ventas_totales\""
      ],
      "metadata": {
        "id": "DwZ3ZjgQBCxN"
      }
    },
    {
      "cell_type": "code",
      "source": [
        "# Columna \"tarjetas_credito\"\n",
        "dfLimpieza[\"tarjetas_credito\"] = dfLimpieza[\"tarjetas_credito\"].fillna(round(df[\"tarjetas_credito\"].mean(),1))"
      ],
      "metadata": {
        "id": "ycArUB2LBCVu"
      },
      "execution_count": 31,
      "outputs": []
    },
    {
      "cell_type": "markdown",
      "source": [
        "Similar a las anteriores dos columnas, en este caso, para los valores nulos de la columna \"otros_medios\", estas serán reemplazadas por el promedio dado que buscamos estabilizar la sumatoria de esta columna para no descuadrarla respecto a la llamada \"ventas_totales\""
      ],
      "metadata": {
        "id": "zDs_0gwTBYvv"
      }
    },
    {
      "cell_type": "code",
      "source": [
        "# Columna \"otros_medios\"\n",
        "dfLimpieza[\"otros_medios\"] = dfLimpieza[\"otros_medios\"].fillna(round(df[\"otros_medios\"].mean(),1))"
      ],
      "metadata": {
        "id": "A49NpKYeBYYm"
      },
      "execution_count": 32,
      "outputs": []
    },
    {
      "cell_type": "markdown",
      "source": [
        "En cuanto a la columna \"subtotal_ventas_alimentos_bebidas\", estas se reemplazarán por la mediana ya que no es deseable sesgar los datos para los subtotales usando el promedio en caso de contar con la presencia de valores atípicos"
      ],
      "metadata": {
        "id": "QawwX3n6DTDM"
      }
    },
    {
      "cell_type": "code",
      "source": [
        "# Columna \"subtotal_ventas_alimentos_bebidas\"\n",
        "dfLimpieza[\"subtotal_ventas_alimentos_bebidas\"] = dfLimpieza[\"subtotal_ventas_alimentos_bebidas\"].fillna(round(df[\"subtotal_ventas_alimentos_bebidas\"].median(),1))"
      ],
      "metadata": {
        "id": "R4yw9RLcDScM"
      },
      "execution_count": 33,
      "outputs": []
    },
    {
      "cell_type": "markdown",
      "source": [
        "Para la columna \"bebidas\" se decidió usar el promedio ya que no queremos afectar en gran escala la columna de los subtotales con los productos de alimentos y bebidas."
      ],
      "metadata": {
        "id": "NIiX-HCDEVA0"
      }
    },
    {
      "cell_type": "code",
      "source": [
        "# Columna \"bebidas\"\n",
        "dfLimpieza[\"bebidas\"] = dfLimpieza[\"bebidas\"].fillna(round(df[\"bebidas\"].mean(),1))"
      ],
      "metadata": {
        "id": "Z0JljOBgD_P8"
      },
      "execution_count": 34,
      "outputs": []
    },
    {
      "cell_type": "markdown",
      "source": [
        "En caso de la columna \"almacen\", el reemplazo será igual a la columna de las bebidas ya que pertenece igualmente a la sumatoria del subtotal de productos alimenticios por lo que se utilizará el promedio."
      ],
      "metadata": {
        "id": "6jB4gaJxEy7Y"
      }
    },
    {
      "cell_type": "code",
      "source": [
        "# Columna \"almacen\"\n",
        "dfLimpieza[\"almacen\"] = dfLimpieza[\"almacen\"].fillna(round(df[\"almacen\"].mean(),1))"
      ],
      "metadata": {
        "id": "zisp26qHEuq4"
      },
      "execution_count": 35,
      "outputs": []
    },
    {
      "cell_type": "markdown",
      "source": [
        "La columna llamada \"panadería\" sigue la misma regla, el utilizar el promedio resulta fundamental para evitar la diferencia con respecto a los subtotales totales de los productos alimenticios."
      ],
      "metadata": {
        "id": "1gkKAIA6FEyN"
      }
    },
    {
      "cell_type": "code",
      "source": [
        "# Columna \"panaderia\"\n",
        "dfLimpieza[\"panaderia\"] = dfLimpieza[\"panaderia\"].fillna(round(df[\"panaderia\"].mean(),1))"
      ],
      "metadata": {
        "id": "qOtXfaFEFXL1"
      },
      "execution_count": 36,
      "outputs": []
    },
    {
      "cell_type": "markdown",
      "source": [
        "Lo mismo ocurre para la columna \"lacteos\" la cual pertenece a la sumatoria de la columna del subtotal de los productos alimenticios por lo que se usará el promedio para no descuadrar mucho la sumatoria."
      ],
      "metadata": {
        "id": "UXNtuc_XFaSO"
      }
    },
    {
      "cell_type": "code",
      "source": [
        "# Columna \"lacteos\"\n",
        "dfLimpieza[\"lacteos\"] = dfLimpieza[\"lacteos\"].fillna(round(df[\"lacteos\"].mean(),1))"
      ],
      "metadata": {
        "id": "RN9EDHGYF9Hu"
      },
      "execution_count": 37,
      "outputs": []
    },
    {
      "cell_type": "markdown",
      "source": [
        "Caso similar para la columna \"carnes\" la cual pertenece a las columnas sumadas por la columna del subtotal, además, dado que solo es un valor nulo, no afectará mucho su reemplazo en la detección de outliers."
      ],
      "metadata": {
        "id": "lbx0RL42GAZ9"
      }
    },
    {
      "cell_type": "code",
      "source": [
        "# Columna \"carnes\"\n",
        "dfLimpieza[\"carnes\"] = dfLimpieza[\"carnes\"].fillna(round(df[\"carnes\"].mean(),1))"
      ],
      "metadata": {
        "id": "AeeHYp-5GOo9"
      },
      "execution_count": 38,
      "outputs": []
    },
    {
      "cell_type": "markdown",
      "source": [
        "Las columnas llamadas \"verduleria_fruteria\" y \"alimentos_preparados_rotiseria\" también pertenecen a la sumatoria de los subtotales por lo que sus valores nulos también serán procesados por el promedio."
      ],
      "metadata": {
        "id": "oxZsMB1UGRNk"
      }
    },
    {
      "cell_type": "code",
      "source": [
        "# Columna \"verduleria_fruteria\"\n",
        "dfLimpieza[\"verduleria_fruteria\"] = dfLimpieza[\"verduleria_fruteria\"].fillna(round(df[\"verduleria_fruteria\"].mean(),1))"
      ],
      "metadata": {
        "id": "W6rEO-2dHLpK"
      },
      "execution_count": 39,
      "outputs": []
    },
    {
      "cell_type": "code",
      "source": [
        "# Columna \"alimentos_preparados_rotiseria\"\n",
        "dfLimpieza[\"alimentos_preparados_rotiseria\"] = dfLimpieza[\"alimentos_preparados_rotiseria\"].fillna(round(df[\"alimentos_preparados_rotiseria\"].mean(),1))"
      ],
      "metadata": {
        "id": "CsywUmAdHMek"
      },
      "execution_count": 40,
      "outputs": []
    },
    {
      "cell_type": "markdown",
      "source": [
        "Para la columna llamada \"indumentaria_calzado_textiles_hogar\", se realizará el reemplazamiento de nulos por el método de la moda, ya que no hay tantos registros para sesgar una posterior operación estadística y sus resultados no están vinculados a otras columnas."
      ],
      "metadata": {
        "id": "EPlu4ZbnHfjr"
      }
    },
    {
      "cell_type": "code",
      "source": [
        "# Calcular la moda de la columna en el df original:\n",
        "moda = df['indumentaria_calzado_textiles_hogar'].mode()[0]\n",
        "moda\n",
        "# Reemplazar los valores nulos por la moda\n",
        "dfLimpieza['indumentaria_calzado_textiles_hogar'] = dfLimpieza['indumentaria_calzado_textiles_hogar'].fillna(moda)"
      ],
      "metadata": {
        "id": "Wz9WIK9WIWX0"
      },
      "execution_count": 41,
      "outputs": []
    },
    {
      "cell_type": "markdown",
      "source": [
        "Para la columna \"electronicos_articulos_hogar\", dado que no está vinculada a otra columna como de subtotales y que tampoco se tienen muchos valores nulos, estas se reemplazarán por la moda."
      ],
      "metadata": {
        "id": "S6JsWr0FJFaE"
      }
    },
    {
      "cell_type": "code",
      "source": [
        "# Calcular la moda de la columna en el df original:\n",
        "modaElec = df['electronicos_articulos_hogar'].mode()[0]\n",
        "modaElec\n",
        "# Reemplazar los valores nulos por la moda\n",
        "dfLimpieza['electronicos_articulos_hogar'] = dfLimpieza['electronicos_articulos_hogar'].fillna(modaElec)"
      ],
      "metadata": {
        "id": "g1FfXveuIqcs"
      },
      "execution_count": 42,
      "outputs": []
    },
    {
      "cell_type": "markdown",
      "source": [
        "Finalmente, para la columna \"otros\", estas serán reemplazadas por la mediana, ya que no existe contexto suficiente de esta columna para evaluar la importancia de la misma dentro del dataframe, y además tampoco tenemos el conocimiento sobre los valores atípicos que se podrían tener, se prefiere ser precavidos y utilizar la mediana."
      ],
      "metadata": {
        "id": "4MDEwMnxJopD"
      }
    },
    {
      "cell_type": "code",
      "source": [
        "# Columna \"otros\"\n",
        "dfLimpieza[\"otros\"] = dfLimpieza[\"otros\"].fillna(round(df[\"otros\"].median(),1))"
      ],
      "metadata": {
        "id": "n1aIANdJKEmW"
      },
      "execution_count": 43,
      "outputs": []
    },
    {
      "cell_type": "code",
      "source": [
        "# Comprobamos los valores nulos del dataframe tras el proceso de limpieza:\n",
        "dfLimpio = dfLimpieza.isnull().sum()\n",
        "dfLimpio.sum()"
      ],
      "metadata": {
        "colab": {
          "base_uri": "https://localhost:8080/"
        },
        "id": "68M9rbk_KMn7",
        "outputId": "ca9917ff-0954-4762-f1d4-8f4e3943cda2"
      },
      "execution_count": 48,
      "outputs": [
        {
          "output_type": "execute_result",
          "data": {
            "text/plain": [
              "0"
            ]
          },
          "metadata": {},
          "execution_count": 48
        }
      ]
    },
    {
      "cell_type": "code",
      "source": [
        "# Convertir Dataframe a CSV\n",
        "dfLimpieza.to_csv(\"VentasTotalesNotNull.csv\")"
      ],
      "metadata": {
        "id": "xYiUKYV4Khkz"
      },
      "execution_count": 50,
      "outputs": []
    },
    {
      "cell_type": "code",
      "source": [
        "# Descargar archivo filtrado en csv\n",
        "from google.colab import files\n",
        "\n",
        "files.download(\"VentasTotalesNotNull.csv\")"
      ],
      "metadata": {
        "colab": {
          "base_uri": "https://localhost:8080/",
          "height": 17
        },
        "id": "F4fAZUJIMCxF",
        "outputId": "56cef813-c065-4d99-f8cf-0c7445391666"
      },
      "execution_count": 51,
      "outputs": [
        {
          "output_type": "display_data",
          "data": {
            "text/plain": [
              "<IPython.core.display.Javascript object>"
            ],
            "application/javascript": [
              "\n",
              "    async function download(id, filename, size) {\n",
              "      if (!google.colab.kernel.accessAllowed) {\n",
              "        return;\n",
              "      }\n",
              "      const div = document.createElement('div');\n",
              "      const label = document.createElement('label');\n",
              "      label.textContent = `Downloading \"${filename}\": `;\n",
              "      div.appendChild(label);\n",
              "      const progress = document.createElement('progress');\n",
              "      progress.max = size;\n",
              "      div.appendChild(progress);\n",
              "      document.body.appendChild(div);\n",
              "\n",
              "      const buffers = [];\n",
              "      let downloaded = 0;\n",
              "\n",
              "      const channel = await google.colab.kernel.comms.open(id);\n",
              "      // Send a message to notify the kernel that we're ready.\n",
              "      channel.send({})\n",
              "\n",
              "      for await (const message of channel.messages) {\n",
              "        // Send a message to notify the kernel that we're ready.\n",
              "        channel.send({})\n",
              "        if (message.buffers) {\n",
              "          for (const buffer of message.buffers) {\n",
              "            buffers.push(buffer);\n",
              "            downloaded += buffer.byteLength;\n",
              "            progress.value = downloaded;\n",
              "          }\n",
              "        }\n",
              "      }\n",
              "      const blob = new Blob(buffers, {type: 'application/binary'});\n",
              "      const a = document.createElement('a');\n",
              "      a.href = window.URL.createObjectURL(blob);\n",
              "      a.download = filename;\n",
              "      div.appendChild(a);\n",
              "      a.click();\n",
              "      div.remove();\n",
              "    }\n",
              "  "
            ]
          },
          "metadata": {}
        },
        {
          "output_type": "display_data",
          "data": {
            "text/plain": [
              "<IPython.core.display.Javascript object>"
            ],
            "application/javascript": [
              "download(\"download_f8994276-0fc9-4d12-95b1-f40669f2e30e\", \"VentasTotalesNotNull.csv\", 18601)"
            ]
          },
          "metadata": {}
        }
      ]
    }
  ]
}